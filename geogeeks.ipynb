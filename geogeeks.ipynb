{
 "cells": [
  {
   "attachments": {},
   "cell_type": "markdown",
   "metadata": {},
   "source": [
    "# Introduction to satellite image classification with Python\n",
    "## Unsupervised classification\n",
    "Stephane Goldstein [(LinkedIn)](https://www.linkedin.com/in/stephane-goldstein/)\n",
    "\n",
    "Geogeeks Perth 2023-05-10\n",
    "\n",
    "## Toolset\n",
    "\n",
    "### [rasterio](https://rasterio.readthedocs.io/en/stable/intro.html)\n",
    "\n",
    "![figure_01](./figures/figure_01.png)\n",
    "\n",
    "### [scikit-learn](https://scikit-learn.org)\n",
    "\n",
    "![figure_03](./figures/figure_03.png)\n",
    "\n",
    "![figure_04](./figures/figure_04.png)"
   ]
  },
  {
   "attachments": {},
   "cell_type": "markdown",
   "metadata": {},
   "source": [
    "## Example image\n",
    "- 15 x 15 pixels 20m resolution Sentinel-2 image subset\n",
    "\n",
    "![figure_06](./figures/figure_06.png)\n",
    "\n",
    "![figure_07](./figures/figure_07.png) ![figure_08](./figures/figure_08.png)\n",
    "\n",
    "![figure_05](./figures/figure_05.png)"
   ]
  },
  {
   "cell_type": "code",
   "execution_count": null,
   "metadata": {},
   "outputs": [],
   "source": [
    "# Create a string with the path of each tif (band) file\n",
    "# Store in a List\n",
    "\n",
    "tif_base_path = './L2A_T50HLK_A039668_20230126T022316/bands'\n",
    "tif_base_name = 'T50HLK_20230126T021341_'\n",
    "\n",
    "tif_bands = [\n",
    "    'B02', 'B03', 'B04', 'B05', 'B06', 'B07',\n",
    "    'B8A', 'B11', 'B12'\n",
    "    ]\n",
    "\n",
    "tif_files = [f'{tif_base_path}/{tif_base_name}{b}_20m.tif' for b in tif_bands]\n",
    "\n",
    "print('\\n'.join([t for t in tif_files]))"
   ]
  },
  {
   "attachments": {},
   "cell_type": "markdown",
   "metadata": {},
   "source": [
    "## Data and Metadata\n",
    "Geographic raster data is usually composed of\n",
    "* data: pixel values\n",
    "* metadata: CRS, location, resolution, data type, No Data piexel value, etc\n",
    "\n",
    "The metadata is the same for all bands, so only the metadata of the first file will be stored.\n",
    "\n",
    "Rasterio calls the metadata the `profile` and it is basically a Python dictionary:"
   ]
  },
  {
   "cell_type": "code",
   "execution_count": null,
   "metadata": {},
   "outputs": [],
   "source": [
    "# Import rasterio\n",
    "import rasterio\n",
    "\n",
    "# Get first file metadata\n",
    "with rasterio.open(tif_files[0]) as rst:\n",
    "    bands_profile = rst.profile\n",
    "\n",
    "# Print metadata\n",
    "for k, v in bands_profile.items():\n",
    "    print(f'{k}:{v}\\n')"
   ]
  },
  {
   "attachments": {},
   "cell_type": "markdown",
   "metadata": {},
   "source": [
    "* [Affine GitHub reposirory](https://github.com/rasterio/affine)\n",
    "\n",
    "* Short article on the Affine transform from [perrygeo](https://www.perrygeo.com/python-affine-transforms.htm)\n",
    "\n",
    "## Data\n",
    "Rasterio reads raster data into a NumPy array\n"
   ]
  },
  {
   "cell_type": "code",
   "execution_count": null,
   "metadata": {},
   "outputs": [],
   "source": [
    "# Intialize an empty list to store the data\n",
    "bands_data = []\n",
    "\n",
    "# Iterate over the tif files\n",
    "for tif in tif_files:\n",
    "    with rasterio.open(tif) as rst:\n",
    "        # Read the first band of the tif file into a NumPy array object\n",
    "        data = rst.read(1)\n",
    "        # Append the NumPy array into the list\n",
    "        bands_data.append(data)\n"
   ]
  },
  {
   "attachments": {},
   "cell_type": "markdown",
   "metadata": {},
   "source": [
    "The data is at this stage a list of NumPy arrays:\n"
   ]
  },
  {
   "cell_type": "code",
   "execution_count": null,
   "metadata": {},
   "outputs": [],
   "source": [
    "print(bands_data[0])"
   ]
  },
  {
   "cell_type": "code",
   "execution_count": null,
   "metadata": {},
   "outputs": [],
   "source": [
    "print(bands_data[0].shape)"
   ]
  },
  {
   "attachments": {},
   "cell_type": "markdown",
   "metadata": {},
   "source": [
    "The list needs to be converted to a single a NumPy array"
   ]
  },
  {
   "cell_type": "code",
   "execution_count": null,
   "metadata": {},
   "outputs": [],
   "source": [
    "import numpy as np\n",
    "bands_data = np.array(bands_data)\n",
    "\n",
    "# Print shape of the NumPy array\n",
    "print(bands_data.shape)\n"
   ]
  },
  {
   "cell_type": "code",
   "execution_count": null,
   "metadata": {},
   "outputs": [],
   "source": [
    "# Extract each dimension into a descriptive variable\n",
    "bands_count = bands_data.shape[0] # number of bands\n",
    "height = bands_data.shape[1]      # number of rows = Y\n",
    "width = bands_data.shape[2]       # number of colums = X"
   ]
  },
  {
   "attachments": {},
   "cell_type": "markdown",
   "metadata": {},
   "source": [
    "---\n",
    "\n",
    "### :warning: **Warning**\n",
    "\n",
    "Geographical coordinates are usually (x,y), while NumPY arrays are indexed by (row,col)\n",
    "\n",
    "x = col\n",
    "\n",
    "y = row\n",
    "\n",
    "---\n",
    "\n",
    "### What does the array look like\n",
    "\n",
    "The data looks now somewhat like this:\n",
    "\n",
    "```\n",
    "image_data = np.array(\n",
    "    [\n",
    "        [\n",
    "            [10,11,12],\n",
    "            [20,21,22],\n",
    "            [30,31,32]\n",
    "        ],\n",
    "        [\n",
    "            [40,41,52],\n",
    "            [50,51,52],\n",
    "            [60,61,62]\n",
    "        ],\n",
    "        [\n",
    "            [70,71,72],\n",
    "            [80,81,82],\n",
    "            [90,91,92]\n",
    "        ]\n",
    "    ]\n",
    "\n",
    "image_data.shape = (3,3,3)\n",
    "data = rst.read(1)\n",
    "# 3 bands\n",
    "# 3 rows\n",
    "# 3 columns\n",
    "```\n",
    "\n",
    "A multiband raster is a 3D array.\n",
    "\n",
    "scikit-learn works with 2 dimensional data in the format `(features, attributes)`, so something like:\n",
    "\n",
    "```\n",
    "data = np.array(\n",
    "    [\n",
    "        [10, 40, 70],\n",
    "        [11, 41, 71],\n",
    "        [12, 52, 72],\n",
    "        [20, 50, 80],\n",
    "        [21, 51, 81],\n",
    "        [22, 52, 82],\n",
    "        [30, 60, 90],\n",
    "        [31, 61, 91],\n",
    "        [32, 62, 92]\n",
    "    ]\n",
    ")\n",
    "``` \n",
    "\n",
    "\n",
    "In the case of the test image, it corresponds to an array of shape (15 * 15, 9) = (225,9)\n",
    "\n",
    "i.e.:\n",
    "```\n",
    "[\n",
    "    [pixel-1_band-1, pixel-1_band-2, ..., pixel-1_band_9],\n",
    "    [pixel-2_band-1, pixel-2_band-2, ..., pixel-2_band_9],\n",
    "    [...],\n",
    "    [pixel-224_band-1, pixel-224_band-2, ..., pixel-224_band_9],\n",
    "    [pixel-225_band-1, pixel-225_band-2, ..., pixel-225_band_9]\n",
    "]\n",
    "```\n",
    "\n",
    "#### Step 1: transform the from 3D to 2D\n",
    "\n",
    "Do not touch the first dimension (number of bands)\n",
    "\n",
    "Reshape rows and columns into a single long line of data\n",
    "\n",
    "i.e. concatenate all rows from the raster"
   ]
  },
  {
   "cell_type": "code",
   "execution_count": null,
   "metadata": {},
   "outputs": [],
   "source": [
    "bands_data_flat = bands_data.reshape(bands_count, height * width)\n",
    "print(bands_data_flat.shape)"
   ]
  },
  {
   "attachments": {},
   "cell_type": "markdown",
   "metadata": {},
   "source": [
    "\n",
    "### What we have now is of the shape `(attributes, features)`:\n",
    "\n",
    "```\n",
    "bands_data_flat = np.array(\n",
    "    [\n",
    "        [10, 11, 12, 20, 21, 22, 30, 31, 32],\n",
    "        [40, 41, 52, 50, 51, 52, 60, 61, 62],\n",
    "        [70, 71, 72, 80, 81, 82, 90, 91, 92]\n",
    "    ]\n",
    ")\n",
    "bands_data_flat.shape = (3, 9)\n",
    "```\n",
    "\n",
    "Or, in the case of the test image\n",
    " \n",
    "```\n",
    "bands_data_flat = np.array(\n",
    "    [\n",
    "        [band-1_pixel_1, band-1_pixel-2, ..., band-1_pixel-224, band-1_pixel-225],\n",
    "        [band-2_pixel_1, band-2_pixel-2, ..., band-2_pixel-224, band_2_pixel-225],\n",
    "        [...],\n",
    "        [band-8_pixel_1, band-8_pixel-2, ..., band-8_pixel-224, band_8_pixel-225],\n",
    "        [band-9_pixel_1, band-9_pixel-2, ..., band-9_pixel-224, band_9_pixel-225],\n",
    "    ]\n",
    ")\n",
    "\n",
    "bands_data_flat.shape = (9, 225)\n",
    "```\n",
    "\n",
    "### Step 2: transpose"
   ]
  },
  {
   "cell_type": "code",
   "execution_count": null,
   "metadata": {},
   "outputs": [],
   "source": [
    "bands_data_flat = bands_data_flat.transpose()\n",
    "print(bands_data_flat.shape)"
   ]
  },
  {
   "attachments": {},
   "cell_type": "markdown",
   "metadata": {},
   "source": [
    "## Unsupervised classification"
   ]
  },
  {
   "cell_type": "code",
   "execution_count": null,
   "metadata": {},
   "outputs": [],
   "source": [
    "from sklearn.cluster import KMeans\n",
    "\n",
    "# ! class is reserved word in Python\n",
    "n_classes = 6\n",
    "\n",
    "# Initialize K-means object with desired parameters\n",
    "kmeans = KMeans(n_clusters=n_classes)\n",
    "# Run classification\n",
    "kmeans.fit(bands_data_flat)\n",
    "\n",
    "# Classification results are stored in the labels_ attribute\n",
    "kmeans_data_flat = kmeans.labels_\n",
    "\n",
    "print(kmeans_data_flat.shape)\n",
    "print('\\n')\n",
    "print(kmeans_data_flat)"
   ]
  },
  {
   "attachments": {},
   "cell_type": "markdown",
   "metadata": {},
   "source": [
    "The shape of the results is a 1D array of length 'number of pixels' (features)\n",
    "\n",
    "### Reshape the array back to 2D having the size of the original image"
   ]
  },
  {
   "cell_type": "code",
   "execution_count": null,
   "metadata": {},
   "outputs": [],
   "source": [
    "kmeans_data = kmeans_data_flat.reshape(height, width)\n",
    "print(kmeans_data)"
   ]
  },
  {
   "attachments": {},
   "cell_type": "markdown",
   "metadata": {},
   "source": [
    "### Get some statistics on the results\n",
    "\n",
    "`np.unique` lists unique value and optionl information (e.g. count) on each value"
   ]
  },
  {
   "cell_type": "code",
   "execution_count": null,
   "metadata": {},
   "outputs": [],
   "source": [
    "# Get unique values and count occurences\n",
    "classes_count = np.unique(kmeans_data, return_counts=True)\n",
    "\n",
    "print(classes_count)"
   ]
  },
  {
   "attachments": {},
   "cell_type": "markdown",
   "metadata": {},
   "source": [
    "### Calculate area of each class:"
   ]
  },
  {
   "cell_type": "code",
   "execution_count": null,
   "metadata": {},
   "outputs": [],
   "source": [
    "pixel_size = 20\n",
    "\n",
    "for i,j in zip(classes_count[0], classes_count[1]):\n",
    "    class_area = j * pixel_size**2 / 10000\n",
    "    print(f'Class {i}: {j} ha')"
   ]
  },
  {
   "attachments": {},
   "cell_type": "markdown",
   "metadata": {},
   "source": [
    "## Export result to tif file\n",
    "\n",
    "### Change data type\n",
    "\n",
    "The data is almost ready. But the current data type is int32.\n",
    "\n",
    "We don't need to use that much bit depth / disk space.\n",
    "\n",
    "8 bits is enough to store 6 classes"
   ]
  },
  {
   "cell_type": "code",
   "execution_count": null,
   "metadata": {},
   "outputs": [],
   "source": [
    "print(kmeans_data.dtype)\n",
    "kmeans_data_int8 = kmeans_data.astype('int8')\n",
    "print(kmeans_data_int8.dtype)"
   ]
  },
  {
   "attachments": {},
   "cell_type": "markdown",
   "metadata": {},
   "source": [
    "### Prepare metadata"
   ]
  },
  {
   "cell_type": "code",
   "execution_count": null,
   "metadata": {},
   "outputs": [],
   "source": [
    "# Make a copy of the first band profile\n",
    "kmeans_profile = bands_profile.copy()\n",
    "print(kmeans_profile['dtype'])\n",
    "kmeans_profile['dtype'] = 'int8'\n",
    "print(kmeans_profile['dtype'])\n"
   ]
  },
  {
   "attachments": {},
   "cell_type": "markdown",
   "metadata": {},
   "source": [
    "### Write to file"
   ]
  },
  {
   "cell_type": "code",
   "execution_count": null,
   "metadata": {},
   "outputs": [],
   "source": [
    "kmeans_tif_path = './L2A_T50HLK_A039668_20230126T022316/kmeans.tif'\n",
    "\n",
    "with rasterio.open(kmeans_tif_path, 'w', **kmeans_profile) as rst:\n",
    "    rst.write(kmeans_data_int8, 1)"
   ]
  },
  {
   "attachments": {},
   "cell_type": "markdown",
   "metadata": {},
   "source": [
    "### The same process can be used for other scikit-learn [clustering algorithms](https://scikit-learn.org/stable/modules/clustering.html)\n",
    "\n",
    "(maybe not all of them)\n",
    "\n",
    "![figure_09](./figures/figure_09.png)\n",
    "\n",
    "#### Repeat with Agglomerative Clustering:"
   ]
  },
  {
   "cell_type": "code",
   "execution_count": null,
   "metadata": {},
   "outputs": [],
   "source": [
    "from sklearn.cluster import AgglomerativeClustering\n",
    "agg_clustering = AgglomerativeClustering(n_clusters=6)\n",
    "agg_clustering.fit(bands_data_flat)\n",
    "agg_clustering_data_flat = agg_clustering.labels_\n",
    "agg_clustering_data = agg_clustering_data_flat.reshape(height, width)\n",
    "agg_clustering_data_int8 = agg_clustering_data.astype('int8')\n",
    "agg_clustering_profile = bands_profile.copy()\n",
    "agg_clustering_profile['dtype'] = 'int8'\n",
    "agg_clustering_tif_path = './L2A_T50HLK_A039668_20230126T022316/agg_clustering.tif'\n",
    "with rasterio.open(agg_clustering_tif_path, 'w', **agg_clustering_profile) as rst:\n",
    "    rst.write(agg_clustering_data_int8,1)"
   ]
  }
 ],
 "metadata": {
  "kernelspec": {
   "display_name": "Python 3",
   "language": "python",
   "name": "python3"
  },
  "language_info": {
   "codemirror_mode": {
    "name": "ipython",
    "version": 3
   },
   "file_extension": ".py",
   "mimetype": "text/x-python",
   "name": "python",
   "nbconvert_exporter": "python",
   "pygments_lexer": "ipython3",
   "version": "3.11.3"
  },
  "orig_nbformat": 4
 },
 "nbformat": 4,
 "nbformat_minor": 2
}
